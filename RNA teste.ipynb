{
 "cells": [
  {
   "cell_type": "code",
   "execution_count": 2,
   "metadata": {},
   "outputs": [],
   "source": [
    "import keras as K\n",
    "from keras.models import Sequential\n",
    "from keras.layers.convolutional import Conv2D\n",
    "from keras.layers.convolutional import MaxPooling2D\n",
    "from keras.layers.core import Activation\n",
    "from keras.layers.core import Flatten\n",
    "from keras.layers.core import Dense\n",
    "from keras.datasets import mnist\n",
    "from keras.utils import np_utils\n",
    "from keras.optimizers import SGD, RMSprop, Adam\n",
    "import numpy as np\n",
    "import matplotlib.pyplot as plt\n",
    "from sklearn.metrics import f1_score"
   ]
  },
  {
   "cell_type": "code",
   "execution_count": 3,
   "metadata": {},
   "outputs": [
    {
     "name": "stdout",
     "output_type": "stream",
     "text": [
      "Found 15512 images belonging to 28 classes.\n",
      "Found 2269 images belonging to 28 classes.\n"
     ]
    }
   ],
   "source": [
    "train_datagen = K.preprocessing.image.ImageDataGenerator()\n",
    "\n",
    "validation_datagen = K.preprocessing.image.ImageDataGenerator()\n",
    "\n",
    "train_generator = train_datagen.flow_from_directory(\n",
    "        'dataset/train',\n",
    "        target_size=(50, 50),\n",
    "        batch_size=1,\n",
    "        color_mode='grayscale',\n",
    "        class_mode='categorical',\n",
    "        )\n",
    "\n",
    "validation_generator = validation_datagen.flow_from_directory(\n",
    "        'dataset/validation',\n",
    "        target_size=(50, 50),\n",
    "        batch_size=1,\n",
    "        color_mode='grayscale',\n",
    "        class_mode=\"categorical\",\n",
    "        )"
   ]
  },
  {
   "cell_type": "code",
   "execution_count": 8,
   "metadata": {},
   "outputs": [],
   "source": [
    "sq = K.models.Sequential()\n"
   ]
  },
  {
   "cell_type": "code",
   "execution_count": 4,
   "metadata": {},
   "outputs": [],
   "source": [
    "early_stop = K.callbacks.EarlyStopping(monitor='val_acc',\n",
    "                              min_delta=0,\n",
    "                              patience=3,\n",
    "                              verbose=0, mode='max')"
   ]
  },
  {
   "cell_type": "code",
   "execution_count": 13,
   "metadata": {},
   "outputs": [],
   "source": [
    "class F1_Score_Callback(K.callbacks.Callback):\n",
    "    def on_train_begin(self, logs={}):\n",
    "        self.val_f1s = []\n",
    "        print (\"teste1\")\n",
    "    \n",
    "    def on_epoch_end(self, epoch, logs={}):\n",
    "#         val_predict = (np.asarray(self.model.predict(self.model.validation_data[0]))).round()\n",
    "#         val_targ = self.model.validation_data[1]\n",
    "#         _val_f1 = f1_score(val_targ, val_predict)\n",
    "#         self.val_f1s.append(_val_f1)\n",
    "        print(self.model)\n",
    "        \n",
    "f1_score_callback = F1_Score_Callback()"
   ]
  },
  {
   "cell_type": "code",
   "execution_count": 6,
   "metadata": {
    "scrolled": true
   },
   "outputs": [
    {
     "name": "stdout",
     "output_type": "stream",
     "text": [
      "_________________________________________________________________\n",
      "Layer (type)                 Output Shape              Param #   \n",
      "=================================================================\n",
      "conv2d_1 (Conv2D)            (None, 50, 50, 20)        200       \n",
      "_________________________________________________________________\n",
      "activation_1 (Activation)    (None, 50, 50, 20)        0         \n",
      "_________________________________________________________________\n",
      "max_pooling2d_1 (MaxPooling2 (None, 25, 25, 20)        0         \n",
      "_________________________________________________________________\n",
      "flatten_1 (Flatten)          (None, 12500)             0         \n",
      "_________________________________________________________________\n",
      "dense_1 (Dense)              (None, 700)               8750700   \n",
      "_________________________________________________________________\n",
      "activation_2 (Activation)    (None, 700)               0         \n",
      "_________________________________________________________________\n",
      "dense_2 (Dense)              (None, 28)                19628     \n",
      "=================================================================\n",
      "Total params: 8,770,528\n",
      "Trainable params: 8,770,528\n",
      "Non-trainable params: 0\n",
      "_________________________________________________________________\n"
     ]
    }
   ],
   "source": [
    "INPUT_SHAPE = (50, 50, 1)\n",
    "NB_EPOCH = 10\n",
    "BATCH_SIZE = 128\n",
    "VERBOSE = 1\n",
    "OPTIMIZER = Adam()\n",
    "CLASSES = 28\n",
    "STEPS = (int)(train_generator.n/BATCH_SIZE)\n",
    "\n",
    "model = Sequential()\n",
    "        \n",
    "model.add(Conv2D(20, kernel_size=3, padding=\"same\", input_shape=INPUT_SHAPE))\n",
    "model.add(Activation(\"relu\"))\n",
    "model.add(MaxPooling2D(pool_size=(2, 2), strides=(2, 2)))\n",
    "\n",
    "# model.add(Conv2D(50, kernel_size=3, border_mode=\"same\"))\n",
    "# model.add(Activation(\"relu\"))\n",
    "# model.add(MaxPooling2D(pool_size=(2, 2), strides=(2, 2)))\n",
    "\n",
    "model.add(Flatten())\n",
    "model.add(Dense(700))\n",
    "model.add(Activation(\"relu\"))\n",
    "\n",
    "model.add(Dense(CLASSES))\n",
    "\n",
    "model.summary()\n",
    "\n",
    "model.compile(loss=\"categorical_crossentropy\", optimizer=OPTIMIZER, metrics=[\"accuracy\"])"
   ]
  },
  {
   "cell_type": "code",
   "execution_count": 14,
   "metadata": {
    "scrolled": false
   },
   "outputs": [
    {
     "name": "stdout",
     "output_type": "stream",
     "text": [
      "teste1\n",
      "Epoch 1/10\n",
      "121/121 [==============================] - 3s 21ms/step - loss: 14.4070 - acc: 0.3884 - val_loss: 11.4726 - val_acc: 0.3802\n",
      "<__main__.F1_Score_Callback object at 0x0000021FA5CFFB38>\n",
      "Epoch 2/10\n",
      "121/121 [==============================] - 2s 20ms/step - loss: 13.9920 - acc: 0.3058 - val_loss: 15.2054 - val_acc: 0.3802\n",
      "<__main__.F1_Score_Callback object at 0x0000021FA5CFFB38>\n",
      "Epoch 3/10\n",
      "121/121 [==============================] - 2s 20ms/step - loss: 15.3189 - acc: 0.3884 - val_loss: 15.2058 - val_acc: 0.3802\n",
      "<__main__.F1_Score_Callback object at 0x0000021FA5CFFB38>\n",
      "Epoch 4/10\n",
      "121/121 [==============================] - 2s 20ms/step - loss: 15.0524 - acc: 0.3306 - val_loss: 15.2058 - val_acc: 0.3802\n",
      "<__main__.F1_Score_Callback object at 0x0000021FA5CFFB38>\n"
     ]
    }
   ],
   "source": [
    "history = model.fit_generator(\n",
    "        train_generator,\n",
    "        steps_per_epoch=STEPS,\n",
    "        epochs=NB_EPOCH,\n",
    "        verbose=VERBOSE,\n",
    "        validation_data=validation_generator,\n",
    "        validation_steps=STEPS,\n",
    "        callbacks = [early_stop, f1_score_callback]\n",
    ")"
   ]
  },
  {
   "cell_type": "code",
   "execution_count": 15,
   "metadata": {},
   "outputs": [
    {
     "name": "stdout",
     "output_type": "stream",
     "text": [
      "dict_keys(['val_loss', 'val_acc', 'loss', 'acc'])\n"
     ]
    },
    {
     "data": {
      "image/png": "[encoded data removed]",
      "text/plain": [
       "<matplotlib.figure.Figure at 0x21fa59dac88>"
      ]
     },
     "metadata": {},
     "output_type": "display_data"
    },
    {
     "data": {
      "image/png": "[encoded data removed]",
      "text/plain": [
       "<matplotlib.figure.Figure at 0x21eb5c517f0>"
      ]
     },
     "metadata": {},
     "output_type": "display_data"
    }
   ],
   "source": [
    "# list all data in history\n",
    "print(history.history.keys())\n",
    "# summarize history for accuracy\n",
    "plt.plot(history.history['acc'])\n",
    "plt.plot(history.history['val_acc'])\n",
    "plt.title('model accuracy')\n",
    "plt.ylabel('accuracy')\n",
    "plt.xlabel('epoch')\n",
    "plt.legend(['train', 'test'], loc='upper left')\n",
    "plt.show()\n",
    "# summarize history for loss\n",
    "plt.plot(history.history['loss'])\n",
    "plt.plot(history.history['val_loss'])\n",
    "plt.title('model loss')\n",
    "plt.ylabel('loss')\n",
    "plt.xlabel('epoch')\n",
    "plt.legend(['train', 'test'], loc='upper left')\n",
    "plt.show()"
   ]
  }
 ],
 "metadata": {
  "kernelspec": {
   "display_name": "Python 3",
   "language": "python",
   "name": "python3"
  },
  "language_info": {
   "codemirror_mode": {
    "name": "ipython",
    "version": 3
   },
   "file_extension": ".py",
   "mimetype": "text/x-python",
   "name": "python",
   "nbconvert_exporter": "python",
   "pygments_lexer": "ipython3",
   "version": "3.6.4"
  }
 },
 "nbformat": 4,
 "nbformat_minor": 2
}
