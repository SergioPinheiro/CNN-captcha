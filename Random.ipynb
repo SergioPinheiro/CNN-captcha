{
 "cells": [
  {
   "cell_type": "code",
   "execution_count": 61,
   "metadata": {},
   "outputs": [],
   "source": [
    "import os\n",
    "from random import choices\n",
    "from shutil import copyfile"
   ]
  },
  {
   "cell_type": "code",
   "execution_count": 62,
   "metadata": {},
   "outputs": [],
   "source": [
    "dataset_file = 'dataset'\n",
    "\n",
    "def copyTo(img_path, img_name, char, to):\n",
    "    to_path = os.path.join(dataset_file, to)\n",
    "    if not os.path.exists(to_path):\n",
    "        os.mkdir(to_path)\n",
    "        \n",
    "    to_path = os.path.join(to_path, char)\n",
    "    if not os.path.exists(to_path):\n",
    "        os.mkdir(to_path)\n",
    "        \n",
    "    to_path = os.path.join(to_path, img_name)\n",
    "    if not os.path.exists(to_path):\n",
    "        copyfile(img_path, to_path)\n"
   ]
  },
  {
   "cell_type": "code",
   "execution_count": 63,
   "metadata": {},
   "outputs": [],
   "source": [
    "src_file = 'img'\n",
    "\n",
    "for file in os.listdir(src_file):\n",
    "    path = os.path.join(src_file, file)\n",
    "    for img in os.listdir(path):\n",
    "        rd = choices(['train', 'validation', 'test'], [.7, .1, .2])\n",
    "        copyTo(os.path.join(path, img), img, file, rd[0])\n",
    "        "
   ]
  }
 ],
 "metadata": {
  "kernelspec": {
   "display_name": "Python 3",
   "language": "python",
   "name": "python3"
  },
  "language_info": {
   "codemirror_mode": {
    "name": "ipython",
    "version": 3
   },
   "file_extension": ".py",
   "mimetype": "text/x-python",
   "name": "python",
   "nbconvert_exporter": "python",
   "pygments_lexer": "ipython3",
   "version": "3.6.4"
  }
 },
 "nbformat": 4,
 "nbformat_minor": 2
}
