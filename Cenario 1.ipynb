{
 "cells": [
  {
   "cell_type": "code",
   "execution_count": 2,
   "metadata": {},
   "outputs": [],
   "source": [
    "import os\n",
    "import keras as K\n",
    "from keras.models import Sequential\n",
    "from keras.layers.convolutional import Conv2D\n",
    "from keras.layers.convolutional import MaxPooling2D\n",
    "from keras.layers.core import Activation\n",
    "from keras.layers.core import Flatten\n",
    "from keras.layers.core import Dense\n",
    "from keras.layers import LeakyReLU\n",
    "from keras.utils import np_utils\n",
    "from keras.optimizers import SGD, RMSprop, Adam\n",
    "import numpy as np\n",
    "import matplotlib.pyplot as plt\n",
    "from sklearn.metrics import f1_score"
   ]
  },
  {
   "cell_type": "code",
   "execution_count": 3,
   "metadata": {},
   "outputs": [
    {
     "name": "stdout",
     "output_type": "stream",
     "text": [
      "Found 12556 images belonging to 28 classes.\n",
      "Found 1710 images belonging to 28 classes.\n",
      "Found 3515 images belonging to 28 classes.\n"
     ]
    }
   ],
   "source": [
    "file = 'dataset_1'\n",
    "\n",
    "train_datagen = K.preprocessing.image.ImageDataGenerator()\n",
    "\n",
    "validation_datagen = K.preprocessing.image.ImageDataGenerator()\n",
    "\n",
    "test_datagen = K.preprocessing.image.ImageDataGenerator()\n",
    "\n",
    "train_generator = train_datagen.flow_from_directory(\n",
    "        os.path.join(file, 'train'),\n",
    "        target_size=(50, 50),\n",
    "        batch_size=1,\n",
    "        color_mode='grayscale',\n",
    "        class_mode='categorical',\n",
    "        )\n",
    "\n",
    "validation_generator = validation_datagen.flow_from_directory(\n",
    "        os.path.join(file, 'validation'),\n",
    "        target_size=(50, 50),\n",
    "        batch_size=1,\n",
    "        color_mode='grayscale',\n",
    "        class_mode=\"categorical\",\n",
    "        )\n",
    "\n",
    "test_generator = validation_datagen.flow_from_directory(\n",
    "        os.path.join(file, 'test'),\n",
    "        target_size=(50, 50),\n",
    "        batch_size=1,\n",
    "        color_mode='grayscale',\n",
    "        class_mode=\"categorical\",\n",
    "        )"
   ]
  },
  {
   "cell_type": "code",
   "execution_count": 4,
   "metadata": {},
   "outputs": [],
   "source": [
    "# test_generator.reset()\n",
    "# ex = test_generator.next()\n",
    "# print(ex[1].argmax(axis=-1))\n",
    "# len(ex[0][0])\n",
    "X_test = []\n",
    "y_test = []\n",
    "for i in range(len(test_generator)):\n",
    "    X_ex, y_ex = test_generator.next()\n",
    "    X_test.append(X_ex)\n",
    "    y_test.append(y_ex)"
   ]
  },
  {
   "cell_type": "code",
   "execution_count": 5,
   "metadata": {},
   "outputs": [],
   "source": [
    "early_stop = K.callbacks.EarlyStopping(monitor='val_acc',\n",
    "                              min_delta=0,\n",
    "                              patience=3,\n",
    "                              verbose=0, mode='max')"
   ]
  },
  {
   "cell_type": "code",
   "execution_count": 6,
   "metadata": {},
   "outputs": [],
   "source": [
    "class LeNetRelu:\n",
    "    @staticmethod\n",
    "    def build(input_shape, classes):\n",
    "        model = Sequential()\n",
    "        \n",
    "        model.add(Conv2D(20, kernel_size=5, padding=\"same\", input_shape=input_shape))\n",
    "        model.add(Activation('relu'))\n",
    "        model.add(MaxPooling2D(pool_size=(2, 2), strides=(2, 2)))\n",
    "\n",
    "        model.add(Conv2D(50, kernel_size=5, border_mode=\"same\"))\n",
    "        model.add(Activation('relu'))\n",
    "        model.add(MaxPooling2D(pool_size=(2, 2), strides=(2, 2)))\n",
    "        \n",
    "        model.add(Flatten())\n",
    "        model.add(Dense(500))\n",
    "        model.add(Activation('relu'))\n",
    "        \n",
    "        model.add(Dense(classes))\n",
    "        model.add(Activation(\"softmax\"))\n",
    "        return model\n",
    "    \n",
    "class LeNetLeakyRelu:\n",
    "    @staticmethod\n",
    "    def build(input_shape, classes):\n",
    "        model = Sequential()\n",
    "        \n",
    "        model.add(Conv2D(20, kernel_size=5, padding=\"same\", input_shape=input_shape))\n",
    "        model.add(LeakyReLU())\n",
    "        model.add(MaxPooling2D(pool_size=(2, 2), strides=(2, 2)))\n",
    "\n",
    "        model.add(Conv2D(50, kernel_size=5, border_mode=\"same\"))\n",
    "        model.add(LeakyReLU())\n",
    "        model.add(MaxPooling2D(pool_size=(2, 2), strides=(2, 2)))\n",
    "        \n",
    "        model.add(Flatten())\n",
    "        model.add(Dense(500))\n",
    "        model.add(LeakyReLU())\n",
    "        \n",
    "        model.add(Dense(classes))\n",
    "        model.add(Activation(\"softmax\"))\n",
    "        return model"
   ]
  },
  {
   "cell_type": "code",
   "execution_count": 8,
   "metadata": {},
   "outputs": [],
   "source": [
    "INPUT_SHAPE = (50, 50, 1)\n",
    "NB_EPOCH = 20\n",
    "BATCH_SIZE = 128\n",
    "VERBOSE = 1\n",
    "OPTIMIZER = Adam()\n",
    "CLASSES = 28\n",
    "STEPS = (int)(train_generator.n/BATCH_SIZE)"
   ]
  },
  {
   "cell_type": "code",
   "execution_count": 9,
   "metadata": {
    "scrolled": true
   },
   "outputs": [
    {
     "name": "stdout",
     "output_type": "stream",
     "text": [
      "_________________________________________________________________\n",
      "Layer (type)                 Output Shape              Param #   \n",
      "=================================================================\n",
      "conv2d_1 (Conv2D)            (None, 50, 50, 20)        520       \n",
      "_________________________________________________________________\n",
      "activation_1 (Activation)    (None, 50, 50, 20)        0         \n",
      "_________________________________________________________________\n",
      "max_pooling2d_1 (MaxPooling2 (None, 25, 25, 20)        0         \n",
      "_________________________________________________________________\n",
      "conv2d_2 (Conv2D)            (None, 25, 25, 50)        25050     \n",
      "_________________________________________________________________\n",
      "activation_2 (Activation)    (None, 25, 25, 50)        0         \n",
      "_________________________________________________________________\n",
      "max_pooling2d_2 (MaxPooling2 (None, 12, 12, 50)        0         \n",
      "_________________________________________________________________\n",
      "flatten_1 (Flatten)          (None, 7200)              0         \n",
      "_________________________________________________________________\n",
      "dense_1 (Dense)              (None, 500)               3600500   \n",
      "_________________________________________________________________\n",
      "activation_3 (Activation)    (None, 500)               0         \n",
      "_________________________________________________________________\n",
      "dense_2 (Dense)              (None, 28)                14028     \n",
      "_________________________________________________________________\n",
      "activation_4 (Activation)    (None, 28)                0         \n",
      "=================================================================\n",
      "Total params: 3,640,098\n",
      "Trainable params: 3,640,098\n",
      "Non-trainable params: 0\n",
      "_________________________________________________________________\n"
     ]
    },
    {
     "name": "stderr",
     "output_type": "stream",
     "text": [
      "C:\\ProgramData\\Anaconda3\\lib\\site-packages\\ipykernel_launcher.py:10: UserWarning: Update your `Conv2D` call to the Keras 2 API: `Conv2D(50, kernel_size=5, padding=\"same\")`\n",
      "  # Remove the CWD from sys.path while we load stuff.\n"
     ]
    }
   ],
   "source": [
    "model = LeNetRelu.build(input_shape=INPUT_SHAPE, classes=CLASSES)\n",
    "\n",
    "model.summary()\n",
    "\n",
    "model.compile(loss=\"categorical_crossentropy\", optimizer=OPTIMIZER, metrics=[\"accuracy\"])"
   ]
  },
  {
   "cell_type": "code",
   "execution_count": 10,
   "metadata": {
    "scrolled": false
   },
   "outputs": [
    {
     "name": "stdout",
     "output_type": "stream",
     "text": [
      "Epoch 1/20\n",
      "98/98 [==============================] - 12s 120ms/step - loss: 15.7680 - acc: 0.0204 - val_loss: 15.6091 - val_acc: 0.0316\n",
      "Epoch 2/20\n",
      "98/98 [==============================] - 4s 45ms/step - loss: 14.8023 - acc: 0.0816 - val_loss: 15.6091 - val_acc: 0.0316\n",
      "Epoch 3/20\n",
      "98/98 [==============================] - 4s 46ms/step - loss: 15.6247 - acc: 0.0306 - val_loss: 15.6091 - val_acc: 0.0316\n",
      "Epoch 4/20\n",
      "98/98 [==============================] - 4s 45ms/step - loss: 15.4602 - acc: 0.0408 - val_loss: 15.6091 - val_acc: 0.0316\n"
     ]
    }
   ],
   "source": [
    "history = model.fit_generator(\n",
    "        train_generator,\n",
    "        steps_per_epoch=STEPS,\n",
    "        epochs=NB_EPOCH,\n",
    "#         verbose=VERBOSE,\n",
    "        validation_data=validation_generator,\n",
    "#         validation_steps=STEPS,\n",
    "        callbacks = [early_stop]\n",
    ")"
   ]
  },
  {
   "cell_type": "code",
   "execution_count": 11,
   "metadata": {},
   "outputs": [
    {
     "data": {
      "text/plain": [
       "0.032716927453769556"
      ]
     },
     "execution_count": 11,
     "metadata": {},
     "output_type": "execute_result"
    }
   ],
   "source": [
    "# pred = model.predict_generator(test_generator)\n",
    "X_test = []\n",
    "y_test = []\n",
    "y_pred = []\n",
    "for i in range(len(test_generator)):\n",
    "    X_ex, y_ex = test_generator.next()\n",
    "    X_test.append(X_ex)\n",
    "    y_test.append(y_ex.argmax(axis=-1))\n",
    "    y_pred.append(model.predict(X_ex).argmax(axis=-1))\n",
    "    \n",
    "val_f1_score = f1_score(y_test, y_pred, average='micro')\n",
    "val_f1_score"
   ]
  },
  {
   "cell_type": "code",
   "execution_count": 14,
   "metadata": {},
   "outputs": [
    {
     "name": "stdout",
     "output_type": "stream",
     "text": [
      "dict_keys(['val_loss', 'val_acc', 'loss', 'acc'])\n"
     ]
    },
    {
     "data": {
      "image/png": "[encoded data removed]",
      "text/plain": [
       "<matplotlib.figure.Figure at 0x23a9680cb38>"
      ]
     },
     "metadata": {},
     "output_type": "display_data"
    },
    {
     "data": {
      "image/png": "[encoded data removed]",
      "text/plain": [
       "<matplotlib.figure.Figure at 0x23a9686a5c0>"
      ]
     },
     "metadata": {},
     "output_type": "display_data"
    }
   ],
   "source": [
    "# list all data in history\n",
    "print(history.history.keys())\n",
    "# summarize history for accuracy\n",
    "plt.plot(history.history['acc'])\n",
    "plt.plot(history.history['val_acc'])\n",
    "plt.title('model accuracy')\n",
    "plt.ylabel('accuracy')\n",
    "plt.xlabel('epoch')\n",
    "plt.legend(['train', 'validation'], loc='upper left')\n",
    "plt.savefig('c1_acc.jpg')\n",
    "plt.show()\n",
    "# summarize history for loss\n",
    "plt.plot(history.history['loss'])\n",
    "plt.plot(history.history['val_loss'])\n",
    "plt.title('model loss')\n",
    "plt.ylabel('loss')\n",
    "plt.xlabel('epoch')\n",
    "plt.legend(['train', 'validation'], loc='upper left')\n",
    "plt.savefig('c1_loss.jpg')\n",
    "plt.show()"
   ]
  },
  {
   "cell_type": "code",
   "execution_count": 36,
   "metadata": {},
   "outputs": [
    {
     "name": "stdout",
     "output_type": "stream",
     "text": [
      "_________________________________________________________________\n",
      "Layer (type)                 Output Shape              Param #   \n",
      "=================================================================\n",
      "conv2d_11 (Conv2D)           (None, 50, 50, 20)        520       \n",
      "_________________________________________________________________\n",
      "leaky_re_lu_1 (LeakyReLU)    (None, 50, 50, 20)        0         \n",
      "_________________________________________________________________\n",
      "max_pooling2d_7 (MaxPooling2 (None, 25, 25, 20)        0         \n",
      "_________________________________________________________________\n",
      "conv2d_12 (Conv2D)           (None, 25, 25, 50)        25050     \n",
      "_________________________________________________________________\n",
      "leaky_re_lu_2 (LeakyReLU)    (None, 25, 25, 50)        0         \n",
      "_________________________________________________________________\n",
      "max_pooling2d_8 (MaxPooling2 (None, 12, 12, 50)        0         \n",
      "_________________________________________________________________\n",
      "flatten_4 (Flatten)          (None, 7200)              0         \n",
      "_________________________________________________________________\n",
      "dense_7 (Dense)              (None, 500)               3600500   \n",
      "_________________________________________________________________\n",
      "leaky_re_lu_3 (LeakyReLU)    (None, 500)               0         \n",
      "_________________________________________________________________\n",
      "dense_8 (Dense)              (None, 28)                14028     \n",
      "_________________________________________________________________\n",
      "activation_15 (Activation)   (None, 28)                0         \n",
      "=================================================================\n",
      "Total params: 3,640,098\n",
      "Trainable params: 3,640,098\n",
      "Non-trainable params: 0\n",
      "_________________________________________________________________\n"
     ]
    },
    {
     "name": "stderr",
     "output_type": "stream",
     "text": [
      "C:\\ProgramData\\Anaconda3\\lib\\site-packages\\ipykernel_launcher.py:31: UserWarning: Update your `Conv2D` call to the Keras 2 API: `Conv2D(50, kernel_size=5, padding=\"same\")`\n"
     ]
    }
   ],
   "source": [
    "model = LeNetLeakyRelu.build(input_shape=INPUT_SHAPE, classes=CLASSES)\n",
    "\n",
    "model.summary()\n",
    "\n",
    "model.compile(loss=\"categorical_crossentropy\", optimizer=OPTIMIZER, metrics=[\"accuracy\"])"
   ]
  },
  {
   "cell_type": "code",
   "execution_count": 37,
   "metadata": {},
   "outputs": [
    {
     "name": "stdout",
     "output_type": "stream",
     "text": [
      "Epoch 1/10\n",
      "392/392 [==============================] - 7s 17ms/step - loss: 15.2989 - acc: 0.0485 - val_loss: 15.5525 - val_acc: 0.0351\n",
      "Epoch 2/10\n",
      "392/392 [==============================] - 6s 16ms/step - loss: 15.7069 - acc: 0.0255 - val_loss: 15.5525 - val_acc: 0.0351\n",
      "Epoch 3/10\n",
      "392/392 [==============================] - 6s 16ms/step - loss: 15.4602 - acc: 0.0408 - val_loss: 15.5525 - val_acc: 0.0351\n",
      "Epoch 4/10\n",
      "392/392 [==============================] - 6s 16ms/step - loss: 15.3369 - acc: 0.0485 - val_loss: 15.5525 - val_acc: 0.0351\n"
     ]
    }
   ],
   "source": [
    "history = model.fit_generator(\n",
    "        train_generator,\n",
    "        steps_per_epoch=STEPS,\n",
    "        epochs=NB_EPOCH,\n",
    "#         verbose=VERBOSE,\n",
    "        validation_data=validation_generator,\n",
    "#         validation_steps=STEPS,\n",
    "        callbacks = [early_stop]\n",
    ")"
   ]
  },
  {
   "cell_type": "code",
   "execution_count": 39,
   "metadata": {},
   "outputs": [
    {
     "data": {
      "text/plain": [
       "0.032432432432432434"
      ]
     },
     "execution_count": 39,
     "metadata": {},
     "output_type": "execute_result"
    }
   ],
   "source": [
    "# pred = model.predict_generator(test_generator)\n",
    "X_test = []\n",
    "y_test = []\n",
    "y_pred = []\n",
    "for i in range(len(test_generator)):\n",
    "    X_ex, y_ex = test_generator.next()\n",
    "    X_test.append(X_ex)\n",
    "    y_test.append(y_ex.argmax(axis=-1))\n",
    "    y_pred.append(model.predict(X_ex).argmax(axis=-1))\n",
    "    \n",
    "val_f1_score = f1_score(y_test, y_pred, average='micro')\n",
    "val_f1_score"
   ]
  },
  {
   "cell_type": "code",
   "execution_count": 40,
   "metadata": {},
   "outputs": [
    {
     "name": "stdout",
     "output_type": "stream",
     "text": [
      "dict_keys(['val_loss', 'val_acc', 'loss', 'acc'])\n"
     ]
    },
    {
     "data": {
      "image/png": "[encoded data removed]",
      "text/plain": [
       "<matplotlib.figure.Figure at 0x217365569e8>"
      ]
     },
     "metadata": {},
     "output_type": "display_data"
    },
    {
     "data": {
      "image/png": "[encoded data removed]",
      "text/plain": [
       "<matplotlib.figure.Figure at 0x21802943e80>"
      ]
     },
     "metadata": {},
     "output_type": "display_data"
    }
   ],
   "source": [
    "# list all data in history\n",
    "print(history.history.keys())\n",
    "# summarize history for accuracy\n",
    "plt.plot(history.history['acc'])\n",
    "plt.plot(history.history['val_acc'])\n",
    "plt.title('model accuracy')\n",
    "plt.ylabel('accuracy')\n",
    "plt.xlabel('epoch')\n",
    "plt.legend(['train', 'test'], loc='upper left')\n",
    "plt.show()\n",
    "# summarize history for loss\n",
    "plt.plot(history.history['loss'])\n",
    "plt.plot(history.history['val_loss'])\n",
    "plt.title('model loss')\n",
    "plt.ylabel('loss')\n",
    "plt.xlabel('epoch')\n",
    "plt.legend(['train', 'test'], loc='upper left')\n",
    "plt.show()"
   ]
  }
 ],
 "metadata": {
  "kernelspec": {
   "display_name": "Python 3",
   "language": "python",
   "name": "python3"
  },
  "language_info": {
   "codemirror_mode": {
    "name": "ipython",
    "version": 3
   },
   "file_extension": ".py",
   "mimetype": "text/x-python",
   "name": "python",
   "nbconvert_exporter": "python",
   "pygments_lexer": "ipython3",
   "version": "3.6.4"
  }
 },
 "nbformat": 4,
 "nbformat_minor": 2
}
